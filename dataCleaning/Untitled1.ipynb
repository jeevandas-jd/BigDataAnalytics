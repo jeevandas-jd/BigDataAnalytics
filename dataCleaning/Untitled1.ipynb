{
 "cells": [
  {
   "cell_type": "code",
   "execution_count": 5,
   "id": "2e0c6017-c629-450c-9a29-fddfdaac2d0f",
   "metadata": {},
   "outputs": [],
   "source": [
    "from pyspark.sql import SparkSession\n",
    "from pyspark.sql.functions import mean\n",
    "import os"
   ]
  },
  {
   "cell_type": "code",
   "execution_count": 3,
   "id": "44bd7761-cdf1-4623-87dd-6166bf7d2154",
   "metadata": {
    "scrolled": true
   },
   "outputs": [
    {
     "name": "stderr",
     "output_type": "stream",
     "text": [
      "WARNING: Using incubator modules: jdk.incubator.vector\n",
      "Using Spark's default log4j profile: org/apache/spark/log4j2-defaults.properties\n",
      "25/07/11 11:33:42 WARN Utils: Your hostname, cusat-SBKPF, resolves to a loopback address: 127.0.1.1; using 172.16.64.46 instead (on interface eno1)\n",
      "25/07/11 11:33:42 WARN Utils: Set SPARK_LOCAL_IP if you need to bind to another address\n",
      "Using Spark's default log4j profile: org/apache/spark/log4j2-defaults.properties\n",
      "Setting default log level to \"WARN\".\n",
      "To adjust logging level use sc.setLogLevel(newLevel). For SparkR, use setLogLevel(newLevel).\n",
      "25/07/11 11:33:43 WARN NativeCodeLoader: Unable to load native-hadoop library for your platform... using builtin-java classes where applicable\n"
     ]
    }
   ],
   "source": [
    "spark=SparkSession.builder.appName(\"TitanicDataClean\").getOrCreate()"
   ]
  },
  {
   "cell_type": "code",
   "execution_count": 8,
   "id": "25d912cf-ebe4-4a11-b8b8-04b13c457ab9",
   "metadata": {},
   "outputs": [],
   "source": [
    "BASE_DIR = os.getcwd()  # Current working directory in Jupyter\n",
    "DATA_PATH = os.path.normpath(os.path.join(BASE_DIR, \"datasets/titanic.csv\"))"
   ]
  },
  {
   "cell_type": "code",
   "execution_count": 10,
   "id": "aa5914f5-57d4-402a-8c3d-22e558f28d0e",
   "metadata": {},
   "outputs": [
    {
     "name": "stdout",
     "output_type": "stream",
     "text": [
      "/home/jd/BigDataAnalytics/dataCleaning/datasets/titanic.csv\n"
     ]
    }
   ],
   "source": [
    "print(DATA_PATH)"
   ]
  },
  {
   "cell_type": "code",
   "execution_count": 20,
   "id": "1370d7dd-6fdb-4d0b-b688-d4d86b7c3ad3",
   "metadata": {},
   "outputs": [],
   "source": [
    "df=spark.read.csv(\"/home/jd/BigDataAnalytics/datasets/titanic.csv\",header=True)"
   ]
  },
  {
   "cell_type": "code",
   "execution_count": 21,
   "id": "320cb5d0-6343-464b-b778-87d40426be1a",
   "metadata": {},
   "outputs": [],
   "source": [
    "df = df.na.fill({\"Age\": df.select(mean(\"Age\")).first()[0]})"
   ]
  },
  {
   "cell_type": "code",
   "execution_count": null,
   "id": "e9da0611-5022-467f-aaa7-1b15aa1af131",
   "metadata": {},
   "outputs": [],
   "source": []
  }
 ],
 "metadata": {
  "kernelspec": {
   "display_name": "Python 3 (ipykernel)",
   "language": "python",
   "name": "python3"
  },
  "language_info": {
   "codemirror_mode": {
    "name": "ipython",
    "version": 3
   },
   "file_extension": ".py",
   "mimetype": "text/x-python",
   "name": "python",
   "nbconvert_exporter": "python",
   "pygments_lexer": "ipython3",
   "version": "3.12.3"
  }
 },
 "nbformat": 4,
 "nbformat_minor": 5
}
