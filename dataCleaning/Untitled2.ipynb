{
 "cells": [
  {
   "cell_type": "code",
   "execution_count": 1,
   "id": "c951c42f-9b9f-40d4-b116-4dfd3d698c30",
   "metadata": {},
   "outputs": [],
   "source": [
    "import pandas as pd\n",
    "\n",
    "from pyspark.sql import SparkSession"
   ]
  },
  {
   "cell_type": "code",
   "execution_count": 3,
   "id": "455ce1f0-46bd-4d0e-b17b-c822695b3b01",
   "metadata": {},
   "outputs": [
    {
     "name": "stderr",
     "output_type": "stream",
     "text": [
      "WARNING: Using incubator modules: jdk.incubator.vector\n",
      "Using Spark's default log4j profile: org/apache/spark/log4j2-defaults.properties\n",
      "25/07/29 15:18:52 WARN Utils: Your hostname, cusat-SBKPF, resolves to a loopback address: 127.0.1.1; using 172.16.64.46 instead (on interface eno1)\n",
      "25/07/29 15:18:52 WARN Utils: Set SPARK_LOCAL_IP if you need to bind to another address\n",
      "Using Spark's default log4j profile: org/apache/spark/log4j2-defaults.properties\n",
      "Setting default log level to \"WARN\".\n",
      "To adjust logging level use sc.setLogLevel(newLevel). For SparkR, use setLogLevel(newLevel).\n",
      "25/07/29 15:18:52 WARN NativeCodeLoader: Unable to load native-hadoop library for your platform... using builtin-java classes where applicable\n"
     ]
    }
   ],
   "source": [
    "spark=SparkSession.builder.appName(\"aerofoildData\").getOrCreate()"
   ]
  },
  {
   "cell_type": "code",
   "execution_count": 6,
   "id": "9118d7d3-74c8-4e7d-828d-d64d64c4e5d7",
   "metadata": {},
   "outputs": [],
   "source": [
    "\n",
    "df = spark.read.csv(\"/home/jd/BigDataAnalytics/datasets/airfoil_self_noise.dat\", sep=\"\\t\", inferSchema=True)"
   ]
  },
  {
   "cell_type": "code",
   "execution_count": 7,
   "id": "10795c42-98b9-46d3-b988-1f232305598c",
   "metadata": {},
   "outputs": [
    {
     "name": "stdout",
     "output_type": "stream",
     "text": [
      "+-----+---+------+----+----------+-------+\n",
      "|  _c0|_c1|   _c2| _c3|       _c4|    _c5|\n",
      "+-----+---+------+----+----------+-------+\n",
      "|  800|0.0|0.3048|71.3|0.00266337|126.201|\n",
      "| 1000|0.0|0.3048|71.3|0.00266337|125.201|\n",
      "| 1250|0.0|0.3048|71.3|0.00266337|125.951|\n",
      "| 1600|0.0|0.3048|71.3|0.00266337|127.591|\n",
      "| 2000|0.0|0.3048|71.3|0.00266337|127.461|\n",
      "| 2500|0.0|0.3048|71.3|0.00266337|125.571|\n",
      "| 3150|0.0|0.3048|71.3|0.00266337|125.201|\n",
      "| 4000|0.0|0.3048|71.3|0.00266337|123.061|\n",
      "| 5000|0.0|0.3048|71.3|0.00266337|121.301|\n",
      "| 6300|0.0|0.3048|71.3|0.00266337|119.541|\n",
      "| 8000|0.0|0.3048|71.3|0.00266337|117.151|\n",
      "|10000|0.0|0.3048|71.3|0.00266337|115.391|\n",
      "|12500|0.0|0.3048|71.3|0.00266337|112.241|\n",
      "|16000|0.0|0.3048|71.3|0.00266337|108.721|\n",
      "|  500|0.0|0.3048|55.5|0.00283081|126.416|\n",
      "|  630|0.0|0.3048|55.5|0.00283081|127.696|\n",
      "|  800|0.0|0.3048|55.5|0.00283081|128.086|\n",
      "| 1000|0.0|0.3048|55.5|0.00283081|126.966|\n",
      "| 1250|0.0|0.3048|55.5|0.00283081|126.086|\n",
      "| 1600|0.0|0.3048|55.5|0.00283081|126.986|\n",
      "+-----+---+------+----+----------+-------+\n",
      "only showing top 20 rows\n"
     ]
    }
   ],
   "source": [
    "df.show()"
   ]
  },
  {
   "cell_type": "code",
   "execution_count": 8,
   "id": "e469086d-fcf5-4580-9ff3-0c530373e39a",
   "metadata": {},
   "outputs": [
    {
     "name": "stdout",
     "output_type": "stream",
     "text": [
      "root\n",
      " |-- Frequency: integer (nullable = true)\n",
      " |-- Angle_of_attack: double (nullable = true)\n",
      " |-- Chord_length: double (nullable = true)\n",
      " |-- Free_stream_velocity: double (nullable = true)\n",
      " |-- Suction_side_displacement_thickness: double (nullable = true)\n",
      " |-- Sound_pressure_level: double (nullable = true)\n",
      "\n",
      "+---------+---------------+------------+--------------------+-----------------------------------+--------------------+\n",
      "|Frequency|Angle_of_attack|Chord_length|Free_stream_velocity|Suction_side_displacement_thickness|Sound_pressure_level|\n",
      "+---------+---------------+------------+--------------------+-----------------------------------+--------------------+\n",
      "|      800|            0.0|      0.3048|                71.3|                         0.00266337|             126.201|\n",
      "|     1000|            0.0|      0.3048|                71.3|                         0.00266337|             125.201|\n",
      "|     1250|            0.0|      0.3048|                71.3|                         0.00266337|             125.951|\n",
      "|     1600|            0.0|      0.3048|                71.3|                         0.00266337|             127.591|\n",
      "|     2000|            0.0|      0.3048|                71.3|                         0.00266337|             127.461|\n",
      "+---------+---------------+------------+--------------------+-----------------------------------+--------------------+\n",
      "only showing top 5 rows\n"
     ]
    }
   ],
   "source": [
    "columns = [\n",
    "    \"Frequency\",\n",
    "    \"Angle_of_attack\",\n",
    "    \"Chord_length\",\n",
    "    \"Free_stream_velocity\",\n",
    "    \"Suction_side_displacement_thickness\",\n",
    "    \"Sound_pressure_level\"\n",
    "]\n",
    "\n",
    "df = df.toDF(*columns)\n",
    "df.printSchema()\n",
    "df.show(5)\n"
   ]
  },
  {
   "cell_type": "code",
   "execution_count": 9,
   "id": "85fa46c4-0992-4fd8-aa53-62948ac01dc3",
   "metadata": {},
   "outputs": [
    {
     "name": "stderr",
     "output_type": "stream",
     "text": [
      "25/07/29 15:25:26 WARN SparkStringUtils: Truncated the string representation of a plan since it was too large. This behavior can be adjusted by setting 'spark.sql.debug.maxToStringFields'.\n"
     ]
    },
    {
     "name": "stdout",
     "output_type": "stream",
     "text": [
      "+-------+------------------+------------------+-------------------+--------------------+-----------------------------------+--------------------+\n",
      "|summary|         Frequency|   Angle_of_attack|       Chord_length|Free_stream_velocity|Suction_side_displacement_thickness|Sound_pressure_level|\n",
      "+-------+------------------+------------------+-------------------+--------------------+-----------------------------------+--------------------+\n",
      "|  count|              1503|              1503|               1503|                1503|                               1503|                1503|\n",
      "|   mean|2886.3805721889553| 6.782302062541517|0.13654823685961226|  50.860745176314175|               0.011139880391217556|  124.83594278110434|\n",
      "| stddev| 3152.573136930669|5.9181281248864765|0.09354072837396635|  15.572784395385678|               0.013150234266814782|   6.898656621628715|\n",
      "|    min|               200|               0.0|             0.0254|                31.7|                         4.00682E-4|              103.38|\n",
      "|    max|             20000|              22.2|             0.3048|                71.3|                          0.0584113|             140.987|\n",
      "+-------+------------------+------------------+-------------------+--------------------+-----------------------------------+--------------------+\n",
      "\n"
     ]
    }
   ],
   "source": [
    "df.describe().show()"
   ]
  },
  {
   "cell_type": "code",
   "execution_count": 10,
   "id": "3ee0f137-c083-4365-8bdf-169e0ec8421b",
   "metadata": {},
   "outputs": [
    {
     "name": "stdout",
     "output_type": "stream",
     "text": [
      "Correlation between Frequency and Sound_pressure_level: -0.3907\n",
      "Correlation between Angle_of_attack and Sound_pressure_level: -0.1561\n",
      "Correlation between Chord_length and Sound_pressure_level: -0.2362\n",
      "Correlation between Free_stream_velocity and Sound_pressure_level: 0.1251\n",
      "Correlation between Suction_side_displacement_thickness and Sound_pressure_level: -0.3127\n"
     ]
    }
   ],
   "source": [
    "for col in columns[:-1]:  # excluding target\n",
    "    corr = df.stat.corr(col, \"Sound_pressure_level\")\n",
    "    print(f\"Correlation between {col} and Sound_pressure_level: {corr:.4f}\")\n"
   ]
  },
  {
   "cell_type": "code",
   "execution_count": 11,
   "id": "e3e80d22-6362-4ba3-bd36-d43cdf929b7b",
   "metadata": {},
   "outputs": [],
   "source": [
    "from pyspark.ml.feature import VectorAssembler\n",
    "from pyspark.ml.regression import LinearRegression\n",
    "from pyspark.ml.evaluation import RegressionEvaluator\n"
   ]
  },
  {
   "cell_type": "code",
   "execution_count": 12,
   "id": "13b1f500-7bef-49dd-8edc-8c051c2f4faf",
   "metadata": {},
   "outputs": [],
   "source": [
    "feature_cols = [\n",
    "    \"Frequency\",\n",
    "    \"Angle_of_attack\",\n",
    "    \"Chord_length\",\n",
    "    \"Free_stream_velocity\",\n",
    "    \"Suction_side_displacement_thickness\"\n",
    "]\n",
    "\n",
    "assembler = VectorAssembler(inputCols=feature_cols, outputCol=\"features\")\n",
    "data = assembler.transform(df).select(\"features\", \"Sound_pressure_level\")\n"
   ]
  },
  {
   "cell_type": "code",
   "execution_count": null,
   "id": "09e2f011-63a3-4ce0-8b51-25bd459647d5",
   "metadata": {},
   "outputs": [],
   "source": []
  }
 ],
 "metadata": {
  "kernelspec": {
   "display_name": "Python 3 (ipykernel)",
   "language": "python",
   "name": "python3"
  },
  "language_info": {
   "codemirror_mode": {
    "name": "ipython",
    "version": 3
   },
   "file_extension": ".py",
   "mimetype": "text/x-python",
   "name": "python",
   "nbconvert_exporter": "python",
   "pygments_lexer": "ipython3",
   "version": "3.12.3"
  }
 },
 "nbformat": 4,
 "nbformat_minor": 5
}
